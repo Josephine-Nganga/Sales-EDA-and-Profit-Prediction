{
 "cells": [
  {
   "cell_type": "code",
   "execution_count": 2,
   "id": "ad7aba9a-e20f-4483-aa46-fab61f17d978",
   "metadata": {},
   "outputs": [],
   "source": [
    "#Importing required libraries\n",
    "import numpy as np\n",
    "import pandas as pd\n",
    "import matplotlib as plt\n",
    "import matplotlib.pyplot as plt\n",
    "import seaborn as sns\n",
    "from scipy.stats import describe\n",
    "from sklearn.model_selection import train_test_split, KFold, cross_val_score\n",
    "from sklearn.preprocessing import StandardScaler, OneHotEncoder\n",
    "from sklearn.ensemble import RandomForestRegressor\n",
    "from sklearn.linear_model import LinearRegression\n",
    "from sklearn.metrics import r2_score, mean_absolute_error, mean_squared_error\n",
    "from sklearn.metrics import homogeneity_score\n",
    "from xgboost import XGBRegressor\n",
    "from sklearn import svm"
   ]
  },
  {
   "cell_type": "code",
   "execution_count": 3,
   "id": "fb42b5fd-0656-475a-a423-75fde0868d3d",
   "metadata": {},
   "outputs": [],
   "source": [
    "df = pd.read_csv(r'C:\\Users\\USER\\Downloads\\Superstore 2023.csv')"
   ]
  },
  {
   "cell_type": "code",
   "execution_count": 4,
   "id": "18a19dcb-0868-4430-87ff-ff6c9022541a",
   "metadata": {},
   "outputs": [
    {
     "name": "stdout",
     "output_type": "stream",
     "text": [
      "(9994, 21)\n"
     ]
    }
   ],
   "source": [
    "# Step 1: Data exploration\n",
    "print(df.shape)"
   ]
  },
  {
   "cell_type": "code",
   "execution_count": 4,
   "id": "c15d47ba-e833-40aa-b389-d99153ba7430",
   "metadata": {},
   "outputs": [
    {
     "name": "stdout",
     "output_type": "stream",
     "text": [
      "<class 'pandas.core.frame.DataFrame'>\n",
      "RangeIndex: 9994 entries, 0 to 9993\n",
      "Data columns (total 21 columns):\n",
      " #   Column          Non-Null Count  Dtype  \n",
      "---  ------          --------------  -----  \n",
      " 0   Row ID          9994 non-null   int64  \n",
      " 1   Order ID        9994 non-null   object \n",
      " 2   Order Date      9994 non-null   object \n",
      " 3   Ship Date       9994 non-null   object \n",
      " 4   Ship Mode       9994 non-null   object \n",
      " 5   Customer ID     9994 non-null   object \n",
      " 6   Customer Name   9994 non-null   object \n",
      " 7   Segment         9994 non-null   object \n",
      " 8   Country/Region  9994 non-null   object \n",
      " 9   City            9994 non-null   object \n",
      " 10  State           9994 non-null   object \n",
      " 11  Postal Code     9983 non-null   float64\n",
      " 12  Region          9994 non-null   object \n",
      " 13  Product ID      9994 non-null   object \n",
      " 14  Category        9994 non-null   object \n",
      " 15  Sub-Category    9994 non-null   object \n",
      " 16  Product Name    9994 non-null   object \n",
      " 17  Sales           9994 non-null   float64\n",
      " 18  Quantity        9994 non-null   int64  \n",
      " 19  Discount        9994 non-null   float64\n",
      " 20  Profit          9994 non-null   float64\n",
      "dtypes: float64(4), int64(2), object(15)\n",
      "memory usage: 1.6+ MB\n",
      "None\n"
     ]
    }
   ],
   "source": [
    "print(df.info())"
   ]
  },
  {
   "cell_type": "code",
   "execution_count": 5,
   "id": "f9520f53-fa03-49b6-a75c-28c886ba3a4a",
   "metadata": {},
   "outputs": [
    {
     "name": "stdout",
     "output_type": "stream",
     "text": [
      "            Row ID   Postal Code         Sales     Quantity     Discount  \\\n",
      "count  9994.000000   9983.000000   9994.000000  9994.000000  9994.000000   \n",
      "mean   4997.500000  55245.233297    229.858001     3.789574     0.156203   \n",
      "std    2885.163629  32038.715955    623.245101     2.225110     0.206452   \n",
      "min       1.000000   1040.000000      0.444000     1.000000     0.000000   \n",
      "25%    2499.250000  23223.000000     17.280000     2.000000     0.000000   \n",
      "50%    4997.500000  57103.000000     54.490000     3.000000     0.200000   \n",
      "75%    7495.750000  90008.000000    209.940000     5.000000     0.200000   \n",
      "max    9994.000000  99301.000000  22638.480000    14.000000     0.800000   \n",
      "\n",
      "            Profit  \n",
      "count  9994.000000  \n",
      "mean     28.656896  \n",
      "std     234.260108  \n",
      "min   -6599.978000  \n",
      "25%       1.728750  \n",
      "50%       8.666500  \n",
      "75%      29.364000  \n",
      "max    8399.976000  \n"
     ]
    }
   ],
   "source": [
    "print(df.describe())"
   ]
  },
  {
   "cell_type": "code",
   "execution_count": 6,
   "id": "cccedc72-aa5b-4e99-aadd-a01fdc5c20d1",
   "metadata": {},
   "outputs": [
    {
     "name": "stdout",
     "output_type": "stream",
     "text": [
      "   Row ID        Order ID           Order Date   Ship Date     Ship Mode  \\\n",
      "0       1  CA-2020-152156  08/11/2022 00:00:00  11/11/2020  Second Class   \n",
      "1       2  CA-2020-152156  08/11/2022 00:00:00  11/11/2020  Second Class   \n",
      "\n",
      "  Customer ID Customer Name   Segment Country/Region       City  ...  \\\n",
      "0    CG-12520   Claire Gute  Consumer  United States  Henderson  ...   \n",
      "1    CG-12520   Claire Gute  Consumer  United States  Henderson  ...   \n",
      "\n",
      "  Postal Code  Region       Product ID   Category Sub-Category  \\\n",
      "0     42420.0   South  FUR-BO-10001798  Furniture    Bookcases   \n",
      "1     42420.0   South  FUR-CH-10000454  Furniture       Chairs   \n",
      "\n",
      "                                        Product Name   Sales  Quantity  \\\n",
      "0                  Bush Somerset Collection Bookcase  261.96         2   \n",
      "1  Hon Deluxe Fabric Upholstered Stacking Chairs,...  731.94         3   \n",
      "\n",
      "   Discount    Profit  \n",
      "0       0.0   41.9136  \n",
      "1       0.0  219.5820  \n",
      "\n",
      "[2 rows x 21 columns]\n"
     ]
    }
   ],
   "source": [
    "## first two rows of the sales column\n",
    "\n",
    "print(df.head(2))"
   ]
  },
  {
   "cell_type": "code",
   "execution_count": 7,
   "id": "8775e11a-1063-418b-bcbd-16de6938ece3",
   "metadata": {},
   "outputs": [
    {
     "data": {
      "text/html": [
       "<div>\n",
       "<style scoped>\n",
       "    .dataframe tbody tr th:only-of-type {\n",
       "        vertical-align: middle;\n",
       "    }\n",
       "\n",
       "    .dataframe tbody tr th {\n",
       "        vertical-align: top;\n",
       "    }\n",
       "\n",
       "    .dataframe thead th {\n",
       "        text-align: right;\n",
       "    }\n",
       "</style>\n",
       "<table border=\"1\" class=\"dataframe\">\n",
       "  <thead>\n",
       "    <tr style=\"text-align: right;\">\n",
       "      <th></th>\n",
       "      <th>0</th>\n",
       "    </tr>\n",
       "  </thead>\n",
       "  <tbody>\n",
       "    <tr>\n",
       "      <th>nobs</th>\n",
       "      <td>9994</td>\n",
       "    </tr>\n",
       "    <tr>\n",
       "      <th>minmax</th>\n",
       "      <td>([0.444, 1.0, 0.0, -6599.978], [22638.48, 14.0...</td>\n",
       "    </tr>\n",
       "    <tr>\n",
       "      <th>mean</th>\n",
       "      <td>[229.85800083049833, 3.789573744246548, 0.1562...</td>\n",
       "    </tr>\n",
       "    <tr>\n",
       "      <th>variance</th>\n",
       "      <td>[388434.4553080756, 4.951113137611377, 0.04262...</td>\n",
       "    </tr>\n",
       "    <tr>\n",
       "      <th>skewness</th>\n",
       "      <td>[12.970805179533526, 1.2783528478702606, 1.684...</td>\n",
       "    </tr>\n",
       "    <tr>\n",
       "      <th>kurtosis</th>\n",
       "      <td>[305.15842681749734, 1.9902926633130011, 2.407...</td>\n",
       "    </tr>\n",
       "  </tbody>\n",
       "</table>\n",
       "</div>"
      ],
      "text/plain": [
       "                                                          0\n",
       "nobs                                                   9994\n",
       "minmax    ([0.444, 1.0, 0.0, -6599.978], [22638.48, 14.0...\n",
       "mean      [229.85800083049833, 3.789573744246548, 0.1562...\n",
       "variance  [388434.4553080756, 4.951113137611377, 0.04262...\n",
       "skewness  [12.970805179533526, 1.2783528478702606, 1.684...\n",
       "kurtosis  [305.15842681749734, 1.9902926633130011, 2.407..."
      ]
     },
     "execution_count": 7,
     "metadata": {},
     "output_type": "execute_result"
    }
   ],
   "source": [
    "# Dropping non-numeric columns from the DataFrame\n",
    "df1 = df.drop(columns=[\"Row ID\", \"Order ID\", \"Order Date\", \"Ship Date\", \"Ship Mode\",\n",
    "                       \"Customer ID\", \"Customer Name\", \"Segment\", \"Country/Region\", \n",
    "                       \"City\", \"State\", \"Postal Code\", \"Region\", \"Product ID\", \n",
    "                       \"Category\", \"Sub-Category\", \"Product Name\"])\n",
    "\n",
    "# Getting statistical descriptions using scipy's describe function\n",
    "df_description = pd.DataFrame(describe(df1),\n",
    "                              index=[\"nobs\", \"minmax\", \"mean\", \"variance\", \"skewness\", \"kurtosis\"])\n",
    "\n",
    "# Display the statistical description\n",
    "df_description\n"
   ]
  },
  {
   "cell_type": "code",
   "execution_count": 8,
   "id": "faeefd97-4272-41ac-9d05-e779ebb78cee",
   "metadata": {},
   "outputs": [
    {
     "data": {
      "text/html": [
       "<div>\n",
       "<style scoped>\n",
       "    .dataframe tbody tr th:only-of-type {\n",
       "        vertical-align: middle;\n",
       "    }\n",
       "\n",
       "    .dataframe tbody tr th {\n",
       "        vertical-align: top;\n",
       "    }\n",
       "\n",
       "    .dataframe thead th {\n",
       "        text-align: right;\n",
       "    }\n",
       "</style>\n",
       "<table border=\"1\" class=\"dataframe\">\n",
       "  <thead>\n",
       "    <tr style=\"text-align: right;\">\n",
       "      <th></th>\n",
       "      <th>Row ID</th>\n",
       "      <th>Order ID</th>\n",
       "      <th>Order Date</th>\n",
       "      <th>Ship Date</th>\n",
       "      <th>Ship Mode</th>\n",
       "      <th>Customer ID</th>\n",
       "      <th>Customer Name</th>\n",
       "      <th>Segment</th>\n",
       "      <th>Country/Region</th>\n",
       "      <th>City</th>\n",
       "      <th>...</th>\n",
       "      <th>Postal Code</th>\n",
       "      <th>Region</th>\n",
       "      <th>Product ID</th>\n",
       "      <th>Category</th>\n",
       "      <th>Sub-Category</th>\n",
       "      <th>Product Name</th>\n",
       "      <th>Sales</th>\n",
       "      <th>Quantity</th>\n",
       "      <th>Discount</th>\n",
       "      <th>Profit</th>\n",
       "    </tr>\n",
       "  </thead>\n",
       "  <tbody>\n",
       "    <tr>\n",
       "      <th>9989</th>\n",
       "      <td>9990</td>\n",
       "      <td>CA-2018-110422</td>\n",
       "      <td>21/01/2020 00:00:00</td>\n",
       "      <td>23/01/2018</td>\n",
       "      <td>Second Class</td>\n",
       "      <td>TB-21400</td>\n",
       "      <td>Tom Boeckenhauer</td>\n",
       "      <td>Consumer</td>\n",
       "      <td>United States</td>\n",
       "      <td>Miami</td>\n",
       "      <td>...</td>\n",
       "      <td>33180.0</td>\n",
       "      <td>South</td>\n",
       "      <td>FUR-FU-10001889</td>\n",
       "      <td>Furniture</td>\n",
       "      <td>Furnishings</td>\n",
       "      <td>Ultra Door Pull Handle</td>\n",
       "      <td>25.248</td>\n",
       "      <td>3</td>\n",
       "      <td>0.2</td>\n",
       "      <td>4.1028</td>\n",
       "    </tr>\n",
       "    <tr>\n",
       "      <th>9990</th>\n",
       "      <td>9991</td>\n",
       "      <td>CA-2021-121258</td>\n",
       "      <td>26/02/2023 00:00:00</td>\n",
       "      <td>03/03/2021</td>\n",
       "      <td>Standard Class</td>\n",
       "      <td>DB-13060</td>\n",
       "      <td>Dave Brooks</td>\n",
       "      <td>Consumer</td>\n",
       "      <td>United States</td>\n",
       "      <td>Costa Mesa</td>\n",
       "      <td>...</td>\n",
       "      <td>92627.0</td>\n",
       "      <td>West</td>\n",
       "      <td>FUR-FU-10000747</td>\n",
       "      <td>Furniture</td>\n",
       "      <td>Furnishings</td>\n",
       "      <td>Tenex B1-RE Series Chair Mats for Low Pile Car...</td>\n",
       "      <td>91.960</td>\n",
       "      <td>2</td>\n",
       "      <td>0.0</td>\n",
       "      <td>15.6332</td>\n",
       "    </tr>\n",
       "    <tr>\n",
       "      <th>9991</th>\n",
       "      <td>9992</td>\n",
       "      <td>CA-2021-121258</td>\n",
       "      <td>26/02/2023 00:00:00</td>\n",
       "      <td>03/03/2021</td>\n",
       "      <td>Standard Class</td>\n",
       "      <td>DB-13060</td>\n",
       "      <td>Dave Brooks</td>\n",
       "      <td>Consumer</td>\n",
       "      <td>United States</td>\n",
       "      <td>Costa Mesa</td>\n",
       "      <td>...</td>\n",
       "      <td>92627.0</td>\n",
       "      <td>West</td>\n",
       "      <td>TEC-PH-10003645</td>\n",
       "      <td>Technology</td>\n",
       "      <td>Phones</td>\n",
       "      <td>Aastra 57i VoIP phone</td>\n",
       "      <td>258.576</td>\n",
       "      <td>2</td>\n",
       "      <td>0.2</td>\n",
       "      <td>19.3932</td>\n",
       "    </tr>\n",
       "    <tr>\n",
       "      <th>9992</th>\n",
       "      <td>9993</td>\n",
       "      <td>CA-2021-121258</td>\n",
       "      <td>26/02/2023 00:00:00</td>\n",
       "      <td>03/03/2021</td>\n",
       "      <td>Standard Class</td>\n",
       "      <td>DB-13060</td>\n",
       "      <td>Dave Brooks</td>\n",
       "      <td>Consumer</td>\n",
       "      <td>United States</td>\n",
       "      <td>Costa Mesa</td>\n",
       "      <td>...</td>\n",
       "      <td>92627.0</td>\n",
       "      <td>West</td>\n",
       "      <td>OFF-PA-10004041</td>\n",
       "      <td>Office Supplies</td>\n",
       "      <td>Paper</td>\n",
       "      <td>It's Hot Message Books with Stickers, 2 3/4\" x 5\"</td>\n",
       "      <td>29.600</td>\n",
       "      <td>4</td>\n",
       "      <td>0.0</td>\n",
       "      <td>13.3200</td>\n",
       "    </tr>\n",
       "    <tr>\n",
       "      <th>9993</th>\n",
       "      <td>9994</td>\n",
       "      <td>CA-2021-119914</td>\n",
       "      <td>04/05/2023 00:00:00</td>\n",
       "      <td>09/05/2021</td>\n",
       "      <td>Second Class</td>\n",
       "      <td>CC-12220</td>\n",
       "      <td>Chris Cortes</td>\n",
       "      <td>Consumer</td>\n",
       "      <td>United States</td>\n",
       "      <td>Westminster</td>\n",
       "      <td>...</td>\n",
       "      <td>92683.0</td>\n",
       "      <td>West</td>\n",
       "      <td>OFF-AP-10002684</td>\n",
       "      <td>Office Supplies</td>\n",
       "      <td>Appliances</td>\n",
       "      <td>Acco 7-Outlet Masterpiece Power Center, Wihtou...</td>\n",
       "      <td>243.160</td>\n",
       "      <td>2</td>\n",
       "      <td>0.0</td>\n",
       "      <td>72.9480</td>\n",
       "    </tr>\n",
       "  </tbody>\n",
       "</table>\n",
       "<p>5 rows × 21 columns</p>\n",
       "</div>"
      ],
      "text/plain": [
       "      Row ID        Order ID           Order Date   Ship Date       Ship Mode  \\\n",
       "9989    9990  CA-2018-110422  21/01/2020 00:00:00  23/01/2018    Second Class   \n",
       "9990    9991  CA-2021-121258  26/02/2023 00:00:00  03/03/2021  Standard Class   \n",
       "9991    9992  CA-2021-121258  26/02/2023 00:00:00  03/03/2021  Standard Class   \n",
       "9992    9993  CA-2021-121258  26/02/2023 00:00:00  03/03/2021  Standard Class   \n",
       "9993    9994  CA-2021-119914  04/05/2023 00:00:00  09/05/2021    Second Class   \n",
       "\n",
       "     Customer ID     Customer Name   Segment Country/Region         City  ...  \\\n",
       "9989    TB-21400  Tom Boeckenhauer  Consumer  United States        Miami  ...   \n",
       "9990    DB-13060       Dave Brooks  Consumer  United States   Costa Mesa  ...   \n",
       "9991    DB-13060       Dave Brooks  Consumer  United States   Costa Mesa  ...   \n",
       "9992    DB-13060       Dave Brooks  Consumer  United States   Costa Mesa  ...   \n",
       "9993    CC-12220      Chris Cortes  Consumer  United States  Westminster  ...   \n",
       "\n",
       "     Postal Code  Region       Product ID         Category Sub-Category  \\\n",
       "9989     33180.0   South  FUR-FU-10001889        Furniture  Furnishings   \n",
       "9990     92627.0    West  FUR-FU-10000747        Furniture  Furnishings   \n",
       "9991     92627.0    West  TEC-PH-10003645       Technology       Phones   \n",
       "9992     92627.0    West  OFF-PA-10004041  Office Supplies        Paper   \n",
       "9993     92683.0    West  OFF-AP-10002684  Office Supplies   Appliances   \n",
       "\n",
       "                                           Product Name    Sales  Quantity  \\\n",
       "9989                             Ultra Door Pull Handle   25.248         3   \n",
       "9990  Tenex B1-RE Series Chair Mats for Low Pile Car...   91.960         2   \n",
       "9991                              Aastra 57i VoIP phone  258.576         2   \n",
       "9992  It's Hot Message Books with Stickers, 2 3/4\" x 5\"   29.600         4   \n",
       "9993  Acco 7-Outlet Masterpiece Power Center, Wihtou...  243.160         2   \n",
       "\n",
       "      Discount   Profit  \n",
       "9989       0.2   4.1028  \n",
       "9990       0.0  15.6332  \n",
       "9991       0.2  19.3932  \n",
       "9992       0.0  13.3200  \n",
       "9993       0.0  72.9480  \n",
       "\n",
       "[5 rows x 21 columns]"
      ]
     },
     "execution_count": 8,
     "metadata": {},
     "output_type": "execute_result"
    }
   ],
   "source": [
    "## checking the tail of the dataset\n",
    "\n",
    "df.tail()"
   ]
  },
  {
   "cell_type": "code",
   "execution_count": 9,
   "id": "9da992bb-c6ac-47d0-a044-ca2078459a96",
   "metadata": {},
   "outputs": [
    {
     "data": {
      "text/plain": [
       "Row ID             0\n",
       "Order ID           0\n",
       "Order Date         0\n",
       "Ship Date          0\n",
       "Ship Mode          0\n",
       "Customer ID        0\n",
       "Customer Name      0\n",
       "Segment            0\n",
       "Country/Region     0\n",
       "City               0\n",
       "State              0\n",
       "Postal Code       11\n",
       "Region             0\n",
       "Product ID         0\n",
       "Category           0\n",
       "Sub-Category       0\n",
       "Product Name       0\n",
       "Sales              0\n",
       "Quantity           0\n",
       "Discount           0\n",
       "Profit             0\n",
       "dtype: int64"
      ]
     },
     "execution_count": 9,
     "metadata": {},
     "output_type": "execute_result"
    }
   ],
   "source": [
    "# Step 2: Data Cleaning\n",
    "## Checking for missing values\n",
    "df.isnull().sum()"
   ]
  },
  {
   "cell_type": "code",
   "execution_count": 10,
   "id": "f5b9824c-6d01-4de0-b851-0960f9a06d2a",
   "metadata": {},
   "outputs": [
    {
     "data": {
      "text/plain": [
       "0"
      ]
     },
     "execution_count": 10,
     "metadata": {},
     "output_type": "execute_result"
    }
   ],
   "source": [
    "## Checking for Duplicates\n",
    "df.duplicated().sum()"
   ]
  },
  {
   "cell_type": "code",
   "execution_count": 13,
   "id": "51d72f67-b0f3-44a5-a6d6-750c92b2a234",
   "metadata": {},
   "outputs": [
    {
     "data": {
      "image/png": "[encoded data removed]",
      "text/plain": [
       "<Figure size 1500x1500 with 1 Axes>"
      ]
     },
     "metadata": {},
     "output_type": "display_data"
    }
   ],
   "source": [
    "## Cchecking for any outliers\n",
    "plt.figure(figsize = (15,15))\n",
    "df.boxplot()\n",
    "plt.grid(True)\n",
    "plt.show()"
   ]
  },
  {
   "cell_type": "code",
   "execution_count": 11,
   "id": "ca399f16-4b5d-461c-a461-b4df5de0240e",
   "metadata": {},
   "outputs": [
    {
     "data": {
      "text/html": [
       "<div>\n",
       "<style scoped>\n",
       "    .dataframe tbody tr th:only-of-type {\n",
       "        vertical-align: middle;\n",
       "    }\n",
       "\n",
       "    .dataframe tbody tr th {\n",
       "        vertical-align: top;\n",
       "    }\n",
       "\n",
       "    .dataframe thead th {\n",
       "        text-align: right;\n",
       "    }\n",
       "</style>\n",
       "<table border=\"1\" class=\"dataframe\">\n",
       "  <thead>\n",
       "    <tr style=\"text-align: right;\">\n",
       "      <th></th>\n",
       "      <th>Row ID</th>\n",
       "      <th>Order ID</th>\n",
       "      <th>Order Date</th>\n",
       "      <th>Ship Date</th>\n",
       "      <th>Ship Mode</th>\n",
       "      <th>Customer ID</th>\n",
       "      <th>Customer Name</th>\n",
       "      <th>Segment</th>\n",
       "      <th>Country/Region</th>\n",
       "      <th>City</th>\n",
       "      <th>...</th>\n",
       "      <th>Postal Code</th>\n",
       "      <th>Region</th>\n",
       "      <th>Product ID</th>\n",
       "      <th>Category</th>\n",
       "      <th>Sub-Category</th>\n",
       "      <th>Product Name</th>\n",
       "      <th>Sales</th>\n",
       "      <th>Quantity</th>\n",
       "      <th>Discount</th>\n",
       "      <th>Profit</th>\n",
       "    </tr>\n",
       "  </thead>\n",
       "  <tbody>\n",
       "    <tr>\n",
       "      <th>1</th>\n",
       "      <td>2</td>\n",
       "      <td>CA-2020-152156</td>\n",
       "      <td>08/11/2022 00:00:00</td>\n",
       "      <td>11/11/2020</td>\n",
       "      <td>Second Class</td>\n",
       "      <td>CG-12520</td>\n",
       "      <td>Claire Gute</td>\n",
       "      <td>Consumer</td>\n",
       "      <td>United States</td>\n",
       "      <td>Henderson</td>\n",
       "      <td>...</td>\n",
       "      <td>42420.0</td>\n",
       "      <td>South</td>\n",
       "      <td>FUR-CH-10000454</td>\n",
       "      <td>Furniture</td>\n",
       "      <td>Chairs</td>\n",
       "      <td>Hon Deluxe Fabric Upholstered Stacking Chairs,...</td>\n",
       "      <td>731.9400</td>\n",
       "      <td>3</td>\n",
       "      <td>0.00</td>\n",
       "      <td>219.5820</td>\n",
       "    </tr>\n",
       "    <tr>\n",
       "      <th>3</th>\n",
       "      <td>4</td>\n",
       "      <td>US-2019-108966</td>\n",
       "      <td>11/10/2021 00:00:00</td>\n",
       "      <td>18/10/2019</td>\n",
       "      <td>Standard Class</td>\n",
       "      <td>SO-20335</td>\n",
       "      <td>Sean O'Donnell</td>\n",
       "      <td>Consumer</td>\n",
       "      <td>United States</td>\n",
       "      <td>Fort Lauderdale</td>\n",
       "      <td>...</td>\n",
       "      <td>33311.0</td>\n",
       "      <td>South</td>\n",
       "      <td>FUR-TA-10000577</td>\n",
       "      <td>Furniture</td>\n",
       "      <td>Tables</td>\n",
       "      <td>Bretford CR4500 Series Slim Rectangular Table</td>\n",
       "      <td>957.5775</td>\n",
       "      <td>5</td>\n",
       "      <td>0.45</td>\n",
       "      <td>-383.0310</td>\n",
       "    </tr>\n",
       "    <tr>\n",
       "      <th>7</th>\n",
       "      <td>8</td>\n",
       "      <td>CA-2018-115812</td>\n",
       "      <td>09/06/2020 00:00:00</td>\n",
       "      <td>14/06/2018</td>\n",
       "      <td>Standard Class</td>\n",
       "      <td>BH-11710</td>\n",
       "      <td>Brosina Hoffman</td>\n",
       "      <td>Consumer</td>\n",
       "      <td>United States</td>\n",
       "      <td>Los Angeles</td>\n",
       "      <td>...</td>\n",
       "      <td>90032.0</td>\n",
       "      <td>West</td>\n",
       "      <td>TEC-PH-10002275</td>\n",
       "      <td>Technology</td>\n",
       "      <td>Phones</td>\n",
       "      <td>Mitel 5320 IP Phone VoIP phone</td>\n",
       "      <td>907.1520</td>\n",
       "      <td>6</td>\n",
       "      <td>0.20</td>\n",
       "      <td>90.7152</td>\n",
       "    </tr>\n",
       "    <tr>\n",
       "      <th>10</th>\n",
       "      <td>11</td>\n",
       "      <td>CA-2018-115812</td>\n",
       "      <td>09/06/2020 00:00:00</td>\n",
       "      <td>14/06/2018</td>\n",
       "      <td>Standard Class</td>\n",
       "      <td>BH-11710</td>\n",
       "      <td>Brosina Hoffman</td>\n",
       "      <td>Consumer</td>\n",
       "      <td>United States</td>\n",
       "      <td>Los Angeles</td>\n",
       "      <td>...</td>\n",
       "      <td>90032.0</td>\n",
       "      <td>West</td>\n",
       "      <td>FUR-TA-10001539</td>\n",
       "      <td>Furniture</td>\n",
       "      <td>Tables</td>\n",
       "      <td>Chromcraft Rectangular Conference Tables</td>\n",
       "      <td>1706.1840</td>\n",
       "      <td>9</td>\n",
       "      <td>0.20</td>\n",
       "      <td>85.3092</td>\n",
       "    </tr>\n",
       "    <tr>\n",
       "      <th>11</th>\n",
       "      <td>12</td>\n",
       "      <td>CA-2018-115812</td>\n",
       "      <td>09/06/2020 00:00:00</td>\n",
       "      <td>14/06/2018</td>\n",
       "      <td>Standard Class</td>\n",
       "      <td>BH-11710</td>\n",
       "      <td>Brosina Hoffman</td>\n",
       "      <td>Consumer</td>\n",
       "      <td>United States</td>\n",
       "      <td>Los Angeles</td>\n",
       "      <td>...</td>\n",
       "      <td>90032.0</td>\n",
       "      <td>West</td>\n",
       "      <td>TEC-PH-10002033</td>\n",
       "      <td>Technology</td>\n",
       "      <td>Phones</td>\n",
       "      <td>Konftel 250 Conference phone - Charcoal black</td>\n",
       "      <td>911.4240</td>\n",
       "      <td>4</td>\n",
       "      <td>0.20</td>\n",
       "      <td>68.3568</td>\n",
       "    </tr>\n",
       "    <tr>\n",
       "      <th>...</th>\n",
       "      <td>...</td>\n",
       "      <td>...</td>\n",
       "      <td>...</td>\n",
       "      <td>...</td>\n",
       "      <td>...</td>\n",
       "      <td>...</td>\n",
       "      <td>...</td>\n",
       "      <td>...</td>\n",
       "      <td>...</td>\n",
       "      <td>...</td>\n",
       "      <td>...</td>\n",
       "      <td>...</td>\n",
       "      <td>...</td>\n",
       "      <td>...</td>\n",
       "      <td>...</td>\n",
       "      <td>...</td>\n",
       "      <td>...</td>\n",
       "      <td>...</td>\n",
       "      <td>...</td>\n",
       "      <td>...</td>\n",
       "      <td>...</td>\n",
       "    </tr>\n",
       "    <tr>\n",
       "      <th>9931</th>\n",
       "      <td>9932</td>\n",
       "      <td>CA-2019-104948</td>\n",
       "      <td>13/11/2021 00:00:00</td>\n",
       "      <td>17/11/2019</td>\n",
       "      <td>Standard Class</td>\n",
       "      <td>KH-16510</td>\n",
       "      <td>Keith Herrera</td>\n",
       "      <td>Consumer</td>\n",
       "      <td>United States</td>\n",
       "      <td>San Bernardino</td>\n",
       "      <td>...</td>\n",
       "      <td>92404.0</td>\n",
       "      <td>West</td>\n",
       "      <td>FUR-BO-10004357</td>\n",
       "      <td>Furniture</td>\n",
       "      <td>Bookcases</td>\n",
       "      <td>O'Sullivan Living Dimensions 3-Shelf Bookcases</td>\n",
       "      <td>683.3320</td>\n",
       "      <td>4</td>\n",
       "      <td>0.15</td>\n",
       "      <td>-40.1960</td>\n",
       "    </tr>\n",
       "    <tr>\n",
       "      <th>9942</th>\n",
       "      <td>9943</td>\n",
       "      <td>CA-2018-143371</td>\n",
       "      <td>28/12/2020 00:00:00</td>\n",
       "      <td>03/01/2019</td>\n",
       "      <td>Standard Class</td>\n",
       "      <td>MD-17350</td>\n",
       "      <td>Maribeth Dona</td>\n",
       "      <td>Consumer</td>\n",
       "      <td>United States</td>\n",
       "      <td>Anaheim</td>\n",
       "      <td>...</td>\n",
       "      <td>92804.0</td>\n",
       "      <td>West</td>\n",
       "      <td>OFF-ST-10001128</td>\n",
       "      <td>Office Supplies</td>\n",
       "      <td>Storage</td>\n",
       "      <td>Carina Mini System Audio Rack, Model AR050B</td>\n",
       "      <td>998.8200</td>\n",
       "      <td>9</td>\n",
       "      <td>0.00</td>\n",
       "      <td>29.9646</td>\n",
       "    </tr>\n",
       "    <tr>\n",
       "      <th>9947</th>\n",
       "      <td>9948</td>\n",
       "      <td>CA-2021-121559</td>\n",
       "      <td>01/06/2023 00:00:00</td>\n",
       "      <td>03/06/2021</td>\n",
       "      <td>Second Class</td>\n",
       "      <td>HW-14935</td>\n",
       "      <td>Helen Wasserman</td>\n",
       "      <td>Corporate</td>\n",
       "      <td>United States</td>\n",
       "      <td>Indianapolis</td>\n",
       "      <td>...</td>\n",
       "      <td>46203.0</td>\n",
       "      <td>Central</td>\n",
       "      <td>FUR-CH-10003746</td>\n",
       "      <td>Furniture</td>\n",
       "      <td>Chairs</td>\n",
       "      <td>Hon 4070 Series Pagoda Round Back Stacking Chairs</td>\n",
       "      <td>1925.8800</td>\n",
       "      <td>6</td>\n",
       "      <td>0.00</td>\n",
       "      <td>539.2464</td>\n",
       "    </tr>\n",
       "    <tr>\n",
       "      <th>9948</th>\n",
       "      <td>9949</td>\n",
       "      <td>CA-2021-121559</td>\n",
       "      <td>01/06/2023 00:00:00</td>\n",
       "      <td>03/06/2021</td>\n",
       "      <td>Second Class</td>\n",
       "      <td>HW-14935</td>\n",
       "      <td>Helen Wasserman</td>\n",
       "      <td>Corporate</td>\n",
       "      <td>United States</td>\n",
       "      <td>Indianapolis</td>\n",
       "      <td>...</td>\n",
       "      <td>46203.0</td>\n",
       "      <td>Central</td>\n",
       "      <td>OFF-AP-10002945</td>\n",
       "      <td>Office Supplies</td>\n",
       "      <td>Appliances</td>\n",
       "      <td>Honeywell Enviracaire Portable HEPA Air Cleane...</td>\n",
       "      <td>2405.2000</td>\n",
       "      <td>8</td>\n",
       "      <td>0.00</td>\n",
       "      <td>793.7160</td>\n",
       "    </tr>\n",
       "    <tr>\n",
       "      <th>9968</th>\n",
       "      <td>9969</td>\n",
       "      <td>CA-2021-153871</td>\n",
       "      <td>11/12/2023 00:00:00</td>\n",
       "      <td>17/12/2021</td>\n",
       "      <td>Standard Class</td>\n",
       "      <td>RB-19435</td>\n",
       "      <td>Richard Bierner</td>\n",
       "      <td>Consumer</td>\n",
       "      <td>United States</td>\n",
       "      <td>Plainfield</td>\n",
       "      <td>...</td>\n",
       "      <td>7060.0</td>\n",
       "      <td>East</td>\n",
       "      <td>OFF-BI-10004600</td>\n",
       "      <td>Office Supplies</td>\n",
       "      <td>Binders</td>\n",
       "      <td>Ibico Ibimaster 300 Manual Binding System</td>\n",
       "      <td>735.9800</td>\n",
       "      <td>2</td>\n",
       "      <td>0.00</td>\n",
       "      <td>331.1910</td>\n",
       "    </tr>\n",
       "  </tbody>\n",
       "</table>\n",
       "<p>1167 rows × 21 columns</p>\n",
       "</div>"
      ],
      "text/plain": [
       "      Row ID        Order ID           Order Date   Ship Date       Ship Mode  \\\n",
       "1          2  CA-2020-152156  08/11/2022 00:00:00  11/11/2020    Second Class   \n",
       "3          4  US-2019-108966  11/10/2021 00:00:00  18/10/2019  Standard Class   \n",
       "7          8  CA-2018-115812  09/06/2020 00:00:00  14/06/2018  Standard Class   \n",
       "10        11  CA-2018-115812  09/06/2020 00:00:00  14/06/2018  Standard Class   \n",
       "11        12  CA-2018-115812  09/06/2020 00:00:00  14/06/2018  Standard Class   \n",
       "...      ...             ...                  ...         ...             ...   \n",
       "9931    9932  CA-2019-104948  13/11/2021 00:00:00  17/11/2019  Standard Class   \n",
       "9942    9943  CA-2018-143371  28/12/2020 00:00:00  03/01/2019  Standard Class   \n",
       "9947    9948  CA-2021-121559  01/06/2023 00:00:00  03/06/2021    Second Class   \n",
       "9948    9949  CA-2021-121559  01/06/2023 00:00:00  03/06/2021    Second Class   \n",
       "9968    9969  CA-2021-153871  11/12/2023 00:00:00  17/12/2021  Standard Class   \n",
       "\n",
       "     Customer ID    Customer Name    Segment Country/Region             City  \\\n",
       "1       CG-12520      Claire Gute   Consumer  United States        Henderson   \n",
       "3       SO-20335   Sean O'Donnell   Consumer  United States  Fort Lauderdale   \n",
       "7       BH-11710  Brosina Hoffman   Consumer  United States      Los Angeles   \n",
       "10      BH-11710  Brosina Hoffman   Consumer  United States      Los Angeles   \n",
       "11      BH-11710  Brosina Hoffman   Consumer  United States      Los Angeles   \n",
       "...          ...              ...        ...            ...              ...   \n",
       "9931    KH-16510    Keith Herrera   Consumer  United States   San Bernardino   \n",
       "9942    MD-17350    Maribeth Dona   Consumer  United States          Anaheim   \n",
       "9947    HW-14935  Helen Wasserman  Corporate  United States     Indianapolis   \n",
       "9948    HW-14935  Helen Wasserman  Corporate  United States     Indianapolis   \n",
       "9968    RB-19435  Richard Bierner   Consumer  United States       Plainfield   \n",
       "\n",
       "      ... Postal Code   Region       Product ID         Category Sub-Category  \\\n",
       "1     ...     42420.0    South  FUR-CH-10000454        Furniture       Chairs   \n",
       "3     ...     33311.0    South  FUR-TA-10000577        Furniture       Tables   \n",
       "7     ...     90032.0     West  TEC-PH-10002275       Technology       Phones   \n",
       "10    ...     90032.0     West  FUR-TA-10001539        Furniture       Tables   \n",
       "11    ...     90032.0     West  TEC-PH-10002033       Technology       Phones   \n",
       "...   ...         ...      ...              ...              ...          ...   \n",
       "9931  ...     92404.0     West  FUR-BO-10004357        Furniture    Bookcases   \n",
       "9942  ...     92804.0     West  OFF-ST-10001128  Office Supplies      Storage   \n",
       "9947  ...     46203.0  Central  FUR-CH-10003746        Furniture       Chairs   \n",
       "9948  ...     46203.0  Central  OFF-AP-10002945  Office Supplies   Appliances   \n",
       "9968  ...      7060.0     East  OFF-BI-10004600  Office Supplies      Binders   \n",
       "\n",
       "                                           Product Name      Sales  Quantity  \\\n",
       "1     Hon Deluxe Fabric Upholstered Stacking Chairs,...   731.9400         3   \n",
       "3         Bretford CR4500 Series Slim Rectangular Table   957.5775         5   \n",
       "7                        Mitel 5320 IP Phone VoIP phone   907.1520         6   \n",
       "10             Chromcraft Rectangular Conference Tables  1706.1840         9   \n",
       "11        Konftel 250 Conference phone - Charcoal black   911.4240         4   \n",
       "...                                                 ...        ...       ...   \n",
       "9931     O'Sullivan Living Dimensions 3-Shelf Bookcases   683.3320         4   \n",
       "9942        Carina Mini System Audio Rack, Model AR050B   998.8200         9   \n",
       "9947  Hon 4070 Series Pagoda Round Back Stacking Chairs  1925.8800         6   \n",
       "9948  Honeywell Enviracaire Portable HEPA Air Cleane...  2405.2000         8   \n",
       "9968          Ibico Ibimaster 300 Manual Binding System   735.9800         2   \n",
       "\n",
       "      Discount    Profit  \n",
       "1         0.00  219.5820  \n",
       "3         0.45 -383.0310  \n",
       "7         0.20   90.7152  \n",
       "10        0.20   85.3092  \n",
       "11        0.20   68.3568  \n",
       "...        ...       ...  \n",
       "9931      0.15  -40.1960  \n",
       "9942      0.00   29.9646  \n",
       "9947      0.00  539.2464  \n",
       "9948      0.00  793.7160  \n",
       "9968      0.00  331.1910  \n",
       "\n",
       "[1167 rows x 21 columns]"
      ]
     },
     "execution_count": 11,
     "metadata": {},
     "output_type": "execute_result"
    }
   ],
   "source": [
    "## Dealing with outliers in the inventory column\n",
    "\n",
    "q1 = df[\"Sales\"].quantile(0.25)\n",
    "q3 = df[\"Sales\"].quantile(0.75)\n",
    "\n",
    "iqr = q3 - q1 \n",
    "\n",
    "upper_limit = q3 + (1.5 * iqr)\n",
    "lower_limit = q1 - (1.5 * iqr)\n",
    "\n",
    "df.loc[(df[\"Sales\"] > upper_limit) | (df[\"Sales\"] < lower_limit)] # identifying the outliers"
   ]
  },
  {
   "cell_type": "code",
   "execution_count": 12,
   "id": "9d1b80e0-f83d-4281-8741-3b6a27116e12",
   "metadata": {},
   "outputs": [
    {
     "name": "stdout",
     "output_type": "stream",
     "text": [
      "Before Removing Outliers: 9994\n",
      "After Removing Outliers: 1167\n",
      "Outliers: 8827\n"
     ]
    }
   ],
   "source": [
    "df_2 = df.loc[(df[\"Sales\"] > upper_limit) | (df[\"Sales\"] < lower_limit)] ## removing the outliers\n",
    "\n",
    "print(\"Before Removing Outliers:\", len(df))\n",
    "print(\"After Removing Outliers:\", len(df_2))\n",
    "print(\"Outliers:\", len(df) - len(df_2))"
   ]
  },
  {
   "cell_type": "code",
   "execution_count": 22,
   "id": "8d03d0ae-7880-47c1-9eaa-826e69b7d189",
   "metadata": {},
   "outputs": [
    {
     "name": "stderr",
     "output_type": "stream",
     "text": [
      "C:\\Users\\USER\\anaconda3\\Lib\\site-packages\\seaborn\\_oldcore.py:1119: FutureWarning: use_inf_as_na option is deprecated and will be removed in a future version. Convert inf values to NaN before operating instead.\n",
      "  with pd.option_context('mode.use_inf_as_na', True):\n"
     ]
    },
    {
     "data": {
      "text/plain": [
       "<Figure size 700x700 with 0 Axes>"
      ]
     },
     "metadata": {},
     "output_type": "display_data"
    },
    {
     "data": {
      "image/png": "[encoded data removed]",
      "text/plain": [
       "<Figure size 500x500 with 1 Axes>"
      ]
     },
     "metadata": {},
     "output_type": "display_data"
    }
   ],
   "source": [
    "# Step 3: Exploratory Data Analysis\n",
    "## Sales distribution\n",
    "\n",
    "plt.figure(figsize = (7,7))\n",
    "sns.displot(df_2[\"Sales\"], color = \"green\")\n",
    "plt.xlabel(\"Sales\")\n",
    "plt.ylabel(\"Count\")\n",
    "plt.grid(True)\n",
    "plt.title(\"Sales Dsitribution\", loc = \"left\")\n",
    "plt.show()"
   ]
  },
  {
   "cell_type": "code",
   "execution_count": 13,
   "id": "46a0b21e-490c-4128-9718-d8cef452c076",
   "metadata": {},
   "outputs": [
    {
     "data": {
      "image/png": "[encoded data removed]",
      "text/plain": [
       "<Figure size 1000x1000 with 1 Axes>"
      ]
     },
     "metadata": {},
     "output_type": "display_data"
    }
   ],
   "source": [
    "## state with the highest number of sales\n",
    "\n",
    "plt.figure(figsize = (10,10))\n",
    "plt.barh(df_2[\"State\"], df_2[\"Sales\"], color = \"maroon\")\n",
    "plt.xlabel(\"Sales\")\n",
    "plt.ylabel(\"State\")\n",
    "plt.grid(True)\n",
    "plt.title(\"Sales Per State\", loc = \"left\")\n",
    "plt.show()"
   ]
  },
  {
   "cell_type": "code",
   "execution_count": 24,
   "id": "8183a382-4689-4f92-91bc-049a28cfb081",
   "metadata": {},
   "outputs": [
    {
     "data": {
      "image/png": "[encoded data removed]",
      "text/plain": [
       "<Figure size 1000x1000 with 2 Axes>"
      ]
     },
     "metadata": {},
     "output_type": "display_data"
    }
   ],
   "source": [
    "## plotting the correlation of variables\n",
    "\n",
    "correlation = df1.corr()\n",
    "\n",
    "plt.figure(figsize = (10,10))\n",
    "sns.heatmap(correlation, cbar=True, annot=True, annot_kws={\"size\": 15}, fmt=\".1f\", square=True, center=True, cmap=\"coolwarm\")\n",
    "plt.show()"
   ]
  },
  {
   "cell_type": "code",
   "execution_count": 14,
   "id": "11e980c2-f72a-472e-bde9-f5dca5535eef",
   "metadata": {},
   "outputs": [
    {
     "name": "stdout",
     "output_type": "stream",
     "text": [
      "    Row ID        Order ID           Order Date   Ship Date       Ship Mode  \\\n",
      "1        2  CA-2020-152156  08/11/2022 00:00:00  11/11/2020    Second Class   \n",
      "3        4  US-2019-108966  11/10/2021 00:00:00  18/10/2019  Standard Class   \n",
      "7        8  CA-2018-115812  09/06/2020 00:00:00  14/06/2018  Standard Class   \n",
      "10      11  CA-2018-115812  09/06/2020 00:00:00  14/06/2018  Standard Class   \n",
      "11      12  CA-2018-115812  09/06/2020 00:00:00  14/06/2018  Standard Class   \n",
      "16      17  CA-2018-105893  11/11/2020 00:00:00  18/11/2018  Standard Class   \n",
      "\n",
      "   Customer ID    Customer Name   Segment Country/Region             City  \\\n",
      "1     CG-12520      Claire Gute  Consumer  United States        Henderson   \n",
      "3     SO-20335   Sean O'Donnell  Consumer  United States  Fort Lauderdale   \n",
      "7     BH-11710  Brosina Hoffman  Consumer  United States      Los Angeles   \n",
      "10    BH-11710  Brosina Hoffman  Consumer  United States      Los Angeles   \n",
      "11    BH-11710  Brosina Hoffman  Consumer  United States      Los Angeles   \n",
      "16    PK-19075        Pete Kriz  Consumer  United States          Madison   \n",
      "\n",
      "    ... Postal Code   Region       Product ID         Category Sub-Category  \\\n",
      "1   ...     42420.0    South  FUR-CH-10000454        Furniture       Chairs   \n",
      "3   ...     33311.0    South  FUR-TA-10000577        Furniture       Tables   \n",
      "7   ...     90032.0     West  TEC-PH-10002275       Technology       Phones   \n",
      "10  ...     90032.0     West  FUR-TA-10001539        Furniture       Tables   \n",
      "11  ...     90032.0     West  TEC-PH-10002033       Technology       Phones   \n",
      "16  ...     53711.0  Central  OFF-ST-10004186  Office Supplies      Storage   \n",
      "\n",
      "                                         Product Name      Sales  Quantity  \\\n",
      "1   Hon Deluxe Fabric Upholstered Stacking Chairs,...   731.9400         3   \n",
      "3       Bretford CR4500 Series Slim Rectangular Table   957.5775         5   \n",
      "7                      Mitel 5320 IP Phone VoIP phone   907.1520         6   \n",
      "10           Chromcraft Rectangular Conference Tables  1706.1840         9   \n",
      "11      Konftel 250 Conference phone - Charcoal black   911.4240         4   \n",
      "16  Stur-D-Stor Shelving, Vertical 5-Shelf: 72\"H x...   665.8800         6   \n",
      "\n",
      "    Discount    Profit  \n",
      "1       0.00  219.5820  \n",
      "3       0.45 -383.0310  \n",
      "7       0.20   90.7152  \n",
      "10      0.20   85.3092  \n",
      "11      0.20   68.3568  \n",
      "16      0.00   13.3176  \n",
      "\n",
      "[6 rows x 21 columns]\n"
     ]
    }
   ],
   "source": [
    "#Step 4: Prediction Models\n",
    "##Linear Regression\n",
    "print(df_2.head(6))"
   ]
  },
  {
   "cell_type": "code",
   "execution_count": 15,
   "id": "04eb6938-bd09-485d-b8ce-577a4a3e069a",
   "metadata": {},
   "outputs": [
    {
     "name": "stderr",
     "output_type": "stream",
     "text": [
      "C:\\Users\\USER\\anaconda3\\Lib\\site-packages\\seaborn\\_oldcore.py:1119: FutureWarning: use_inf_as_na option is deprecated and will be removed in a future version. Convert inf values to NaN before operating instead.\n",
      "  with pd.option_context('mode.use_inf_as_na', True):\n"
     ]
    },
    {
     "data": {
      "image/png": "[encoded data removed]",
      "text/plain": [
       "<Figure size 500x500 with 1 Axes>"
      ]
     },
     "metadata": {},
     "output_type": "display_data"
    }
   ],
   "source": [
    "## checking the distribution of the profit column\n",
    "\n",
    "sns.displot(df_2[\"Profit\"])\n",
    "plt.grid(True)\n",
    "plt.show()\n"
   ]
  },
  {
   "cell_type": "code",
   "execution_count": 16,
   "id": "55c049ec-6292-44b7-88d9-e5a611f2a1ba",
   "metadata": {},
   "outputs": [
    {
     "data": {
      "text/plain": [
       "DescribeResult(nobs=1167, minmax=(-6599.978, 8399.976), mean=160.70830771208227, variance=432337.35920044716, skewness=2.338773827524163, kurtosis=50.13057629086735)"
      ]
     },
     "execution_count": 16,
     "metadata": {},
     "output_type": "execute_result"
    }
   ],
   "source": [
    "describe(df_2[\"Profit\"])"
   ]
  },
  {
   "cell_type": "code",
   "execution_count": 17,
   "id": "caf5012c-49e2-4be2-9a11-cc8ff0777658",
   "metadata": {},
   "outputs": [
    {
     "name": "stdout",
     "output_type": "stream",
     "text": [
      "         Sales  Quantity  Discount    Profit\n",
      "0     261.9600         2      0.00   41.9136\n",
      "1     731.9400         3      0.00  219.5820\n",
      "2      14.6200         2      0.00    6.8714\n",
      "3     957.5775         5      0.45 -383.0310\n",
      "4      22.3680         2      0.20    2.5164\n",
      "...        ...       ...       ...       ...\n",
      "9989   25.2480         3      0.20    4.1028\n",
      "9990   91.9600         2      0.00   15.6332\n",
      "9991  258.5760         2      0.20   19.3932\n",
      "9992   29.6000         4      0.00   13.3200\n",
      "9993  243.1600         2      0.00   72.9480\n",
      "\n",
      "[9994 rows x 4 columns]\n"
     ]
    }
   ],
   "source": [
    "# Dropping non-numeric columns from the DataFrame\n",
    "DF = df.drop(columns=[\"Row ID\", \"Order ID\", \"Order Date\", \"Ship Date\", \"Ship Mode\",\n",
    "                       \"Customer ID\", \"Customer Name\", \"Segment\", \"Country/Region\", \n",
    "                       \"City\", \"State\", \"Postal Code\", \"Region\", \"Product ID\", \n",
    "                       \"Category\", \"Sub-Category\", \"Product Name\"])\n",
    "print(DF)"
   ]
  },
  {
   "cell_type": "code",
   "execution_count": 18,
   "id": "69584c8d-5e48-468d-a3b7-ec3ae20a5fce",
   "metadata": {},
   "outputs": [],
   "source": [
    "## idefining the d.v and i.v\n",
    "\n",
    "X = DF.drop(columns = [\"Profit\"])\n",
    "y = DF[\"Profit\"]"
   ]
  },
  {
   "cell_type": "code",
   "execution_count": 19,
   "id": "b649aaa1-84a2-427e-8b7c-6becc1814863",
   "metadata": {},
   "outputs": [],
   "source": [
    "## dividing the dataset into training and testing sizes\n",
    "\n",
    "X_train, X_test, y_train, y_test = train_test_split(X, y, test_size=0.3, random_state=50)"
   ]
  },
  {
   "cell_type": "code",
   "execution_count": 20,
   "id": "d91f3a01-3152-4410-a753-83747b254596",
   "metadata": {},
   "outputs": [],
   "source": [
    "## loading the linear regression model\n",
    "\n",
    "lr = LinearRegression()"
   ]
  },
  {
   "cell_type": "code",
   "execution_count": 21,
   "id": "dd06c3d2-f063-4355-b30e-ab37ec658b1c",
   "metadata": {},
   "outputs": [
    {
     "data": {
      "text/html": [
       "<style>#sk-container-id-1 {color: black;background-color: white;}#sk-container-id-1 pre{padding: 0;}#sk-container-id-1 div.sk-toggleable {background-color: white;}#sk-container-id-1 label.sk-toggleable__label {cursor: pointer;display: block;width: 100%;margin-bottom: 0;padding: 0.3em;box-sizing: border-box;text-align: center;}#sk-container-id-1 label.sk-toggleable__label-arrow:before {content: \"▸\";float: left;margin-right: 0.25em;color: #696969;}#sk-container-id-1 label.sk-toggleable__label-arrow:hover:before {color: black;}#sk-container-id-1 div.sk-estimator:hover label.sk-toggleable__label-arrow:before {color: black;}#sk-container-id-1 div.sk-toggleable__content {max-height: 0;max-width: 0;overflow: hidden;text-align: left;background-color: #f0f8ff;}#sk-container-id-1 div.sk-toggleable__content pre {margin: 0.2em;color: black;border-radius: 0.25em;background-color: #f0f8ff;}#sk-container-id-1 input.sk-toggleable__control:checked~div.sk-toggleable__content {max-height: 200px;max-width: 100%;overflow: auto;}#sk-container-id-1 input.sk-toggleable__control:checked~label.sk-toggleable__label-arrow:before {content: \"▾\";}#sk-container-id-1 div.sk-estimator input.sk-toggleable__control:checked~label.sk-toggleable__label {background-color: #d4ebff;}#sk-container-id-1 div.sk-label input.sk-toggleable__control:checked~label.sk-toggleable__label {background-color: #d4ebff;}#sk-container-id-1 input.sk-hidden--visually {border: 0;clip: rect(1px 1px 1px 1px);clip: rect(1px, 1px, 1px, 1px);height: 1px;margin: -1px;overflow: hidden;padding: 0;position: absolute;width: 1px;}#sk-container-id-1 div.sk-estimator {font-family: monospace;background-color: #f0f8ff;border: 1px dotted black;border-radius: 0.25em;box-sizing: border-box;margin-bottom: 0.5em;}#sk-container-id-1 div.sk-estimator:hover {background-color: #d4ebff;}#sk-container-id-1 div.sk-parallel-item::after {content: \"\";width: 100%;border-bottom: 1px solid gray;flex-grow: 1;}#sk-container-id-1 div.sk-label:hover label.sk-toggleable__label {background-color: #d4ebff;}#sk-container-id-1 div.sk-serial::before {content: \"\";position: absolute;border-left: 1px solid gray;box-sizing: border-box;top: 0;bottom: 0;left: 50%;z-index: 0;}#sk-container-id-1 div.sk-serial {display: flex;flex-direction: column;align-items: center;background-color: white;padding-right: 0.2em;padding-left: 0.2em;position: relative;}#sk-container-id-1 div.sk-item {position: relative;z-index: 1;}#sk-container-id-1 div.sk-parallel {display: flex;align-items: stretch;justify-content: center;background-color: white;position: relative;}#sk-container-id-1 div.sk-item::before, #sk-container-id-1 div.sk-parallel-item::before {content: \"\";position: absolute;border-left: 1px solid gray;box-sizing: border-box;top: 0;bottom: 0;left: 50%;z-index: -1;}#sk-container-id-1 div.sk-parallel-item {display: flex;flex-direction: column;z-index: 1;position: relative;background-color: white;}#sk-container-id-1 div.sk-parallel-item:first-child::after {align-self: flex-end;width: 50%;}#sk-container-id-1 div.sk-parallel-item:last-child::after {align-self: flex-start;width: 50%;}#sk-container-id-1 div.sk-parallel-item:only-child::after {width: 0;}#sk-container-id-1 div.sk-dashed-wrapped {border: 1px dashed gray;margin: 0 0.4em 0.5em 0.4em;box-sizing: border-box;padding-bottom: 0.4em;background-color: white;}#sk-container-id-1 div.sk-label label {font-family: monospace;font-weight: bold;display: inline-block;line-height: 1.2em;}#sk-container-id-1 div.sk-label-container {text-align: center;}#sk-container-id-1 div.sk-container {/* jupyter's `normalize.less` sets `[hidden] { display: none; }` but bootstrap.min.css set `[hidden] { display: none !important; }` so we also need the `!important` here to be able to override the default hidden behavior on the sphinx rendered scikit-learn.org. See: https://github.com/scikit-learn/scikit-learn/issues/21755 */display: inline-block !important;position: relative;}#sk-container-id-1 div.sk-text-repr-fallback {display: none;}</style><div id=\"sk-container-id-1\" class=\"sk-top-container\"><div class=\"sk-text-repr-fallback\"><pre>LinearRegression()</pre><b>In a Jupyter environment, please rerun this cell to show the HTML representation or trust the notebook. <br />On GitHub, the HTML representation is unable to render, please try loading this page with nbviewer.org.</b></div><div class=\"sk-container\" hidden><div class=\"sk-item\"><div class=\"sk-estimator sk-toggleable\"><input class=\"sk-toggleable__control sk-hidden--visually\" id=\"sk-estimator-id-1\" type=\"checkbox\" checked><label for=\"sk-estimator-id-1\" class=\"sk-toggleable__label sk-toggleable__label-arrow\">LinearRegression</label><div class=\"sk-toggleable__content\"><pre>LinearRegression()</pre></div></div></div></div></div>"
      ],
      "text/plain": [
       "LinearRegression()"
      ]
     },
     "execution_count": 21,
     "metadata": {},
     "output_type": "execute_result"
    }
   ],
   "source": [
    "## fiting the model with the training data\n",
    "\n",
    "lr.fit(X_train,y_train)"
   ]
  },
  {
   "cell_type": "code",
   "execution_count": 22,
   "id": "5c318673-6bec-428b-865c-b646194c87fa",
   "metadata": {},
   "outputs": [
    {
     "name": "stdout",
     "output_type": "stream",
     "text": [
      "42.029552012489766\n"
     ]
    }
   ],
   "source": [
    "## printing the intercepts\n",
    "\n",
    "print(lr.intercept_)"
   ]
  },
  {
   "cell_type": "code",
   "execution_count": 23,
   "id": "f775e944-a6fc-49ec-9b98-d6ff7eb48369",
   "metadata": {},
   "outputs": [
    {
     "data": {
      "text/html": [
       "<div>\n",
       "<style scoped>\n",
       "    .dataframe tbody tr th:only-of-type {\n",
       "        vertical-align: middle;\n",
       "    }\n",
       "\n",
       "    .dataframe tbody tr th {\n",
       "        vertical-align: top;\n",
       "    }\n",
       "\n",
       "    .dataframe thead th {\n",
       "        text-align: right;\n",
       "    }\n",
       "</style>\n",
       "<table border=\"1\" class=\"dataframe\">\n",
       "  <thead>\n",
       "    <tr style=\"text-align: right;\">\n",
       "      <th></th>\n",
       "      <th>Sales</th>\n",
       "      <th>Quantity</th>\n",
       "      <th>Discount</th>\n",
       "    </tr>\n",
       "  </thead>\n",
       "  <tbody>\n",
       "    <tr>\n",
       "      <th>Coefficients</th>\n",
       "      <td>0.16959</td>\n",
       "      <td>-4.10596</td>\n",
       "      <td>-245.130013</td>\n",
       "    </tr>\n",
       "  </tbody>\n",
       "</table>\n",
       "</div>"
      ],
      "text/plain": [
       "                Sales  Quantity    Discount\n",
       "Coefficients  0.16959  -4.10596 -245.130013"
      ]
     },
     "execution_count": 23,
     "metadata": {},
     "output_type": "execute_result"
    }
   ],
   "source": [
    "## printing the coefficients\n",
    "\n",
    "coefficients = pd.DataFrame(lr.coef_, X_train.columns).T\n",
    "coefficients = coefficients.rename({0: \"Coefficients\"})\n",
    "coefficients"
   ]
  },
  {
   "cell_type": "code",
   "execution_count": 24,
   "id": "1db533b3-e449-4d95-875d-94fd638c6de2",
   "metadata": {},
   "outputs": [
    {
     "data": {
      "text/plain": [
       "array([ 34.37388675,  34.70289094,  31.18596882, ...,  38.38826815,\n",
       "       -15.48183511,  43.17748376])"
      ]
     },
     "execution_count": 24,
     "metadata": {},
     "output_type": "execute_result"
    }
   ],
   "source": [
    "## predicting the model\n",
    "\n",
    "pred = lr.predict(X_test)\n",
    "pred"
   ]
  },
  {
   "cell_type": "code",
   "execution_count": 25,
   "id": "1c904c39-1d93-4149-b928-de48c815b2b0",
   "metadata": {},
   "outputs": [
    {
     "data": {
      "image/png": "[encoded data removed]",
      "text/plain": [
       "<Figure size 700x700 with 1 Axes>"
      ]
     },
     "metadata": {},
     "output_type": "display_data"
    }
   ],
   "source": [
    "## plotting the results\n",
    "\n",
    "plt.figure(figsize = (7,7))\n",
    "plt.scatter(y_test, pred)\n",
    "plt.xlabel(\"Actual Values\")\n",
    "plt.ylabel(\"Predicted Values\")\n",
    "plt.grid(True)\n",
    "plt.title(\"Actual vs Predicted Values\")\n",
    "plt.show()"
   ]
  },
  {
   "cell_type": "code",
   "execution_count": 26,
   "id": "f98b3ce5-8e7b-425b-9e64-a9507b403aca",
   "metadata": {},
   "outputs": [
    {
     "name": "stdout",
     "output_type": "stream",
     "text": [
      "R^2: 0.3425148005263261\n",
      "Homogeneity Score: 0.9877265608256731\n",
      "MAE: 57.88707663850307\n",
      "MSE: 30853.655801966666\n",
      "RMSE 175.6520873828907\n",
      "Adjusted R^2: 2.9724555984210217\n"
     ]
    },
    {
     "name": "stderr",
     "output_type": "stream",
     "text": [
      "C:\\Users\\USER\\anaconda3\\Lib\\site-packages\\sklearn\\metrics\\cluster\\_supervised.py:64: UserWarning: Clustering metrics expects discrete values but received continuous values for label, and continuous values for target\n",
      "  warnings.warn(msg, UserWarning)\n"
     ]
    }
   ],
   "source": [
    "print(\"R^2:\" , r2_score(y_test, pred))\n",
    "print(\"Homogeneity Score:\", homogeneity_score(y_test, pred))\n",
    "print(\"MAE:\", mean_absolute_error(y_test, pred))\n",
    "print(\"MSE:\", mean_squared_error(y_test, pred))\n",
    "print(\"RMSE\", np.sqrt(mean_squared_error(y_test, pred)))\n",
    "print(\"Adjusted R^2:\", 1 - (1 - r2_score(y_test, pred)) * (len(y_train - 1) / len(y_train) - X_train.shape[1]-1))"
   ]
  },
  {
   "cell_type": "code",
   "execution_count": 27,
   "id": "40938558-a780-4be6-8fae-fe9df6a2d071",
   "metadata": {},
   "outputs": [],
   "source": [
    "### defining the regressor\n",
    "\n",
    "rc = RandomForestRegressor()"
   ]
  },
  {
   "cell_type": "code",
   "execution_count": 28,
   "id": "d0a79952-b21b-4b9c-a262-12cf5dc10f84",
   "metadata": {},
   "outputs": [
    {
     "data": {
      "text/html": [
       "<style>#sk-container-id-2 {color: black;background-color: white;}#sk-container-id-2 pre{padding: 0;}#sk-container-id-2 div.sk-toggleable {background-color: white;}#sk-container-id-2 label.sk-toggleable__label {cursor: pointer;display: block;width: 100%;margin-bottom: 0;padding: 0.3em;box-sizing: border-box;text-align: center;}#sk-container-id-2 label.sk-toggleable__label-arrow:before {content: \"▸\";float: left;margin-right: 0.25em;color: #696969;}#sk-container-id-2 label.sk-toggleable__label-arrow:hover:before {color: black;}#sk-container-id-2 div.sk-estimator:hover label.sk-toggleable__label-arrow:before {color: black;}#sk-container-id-2 div.sk-toggleable__content {max-height: 0;max-width: 0;overflow: hidden;text-align: left;background-color: #f0f8ff;}#sk-container-id-2 div.sk-toggleable__content pre {margin: 0.2em;color: black;border-radius: 0.25em;background-color: #f0f8ff;}#sk-container-id-2 input.sk-toggleable__control:checked~div.sk-toggleable__content {max-height: 200px;max-width: 100%;overflow: auto;}#sk-container-id-2 input.sk-toggleable__control:checked~label.sk-toggleable__label-arrow:before {content: \"▾\";}#sk-container-id-2 div.sk-estimator input.sk-toggleable__control:checked~label.sk-toggleable__label {background-color: #d4ebff;}#sk-container-id-2 div.sk-label input.sk-toggleable__control:checked~label.sk-toggleable__label {background-color: #d4ebff;}#sk-container-id-2 input.sk-hidden--visually {border: 0;clip: rect(1px 1px 1px 1px);clip: rect(1px, 1px, 1px, 1px);height: 1px;margin: -1px;overflow: hidden;padding: 0;position: absolute;width: 1px;}#sk-container-id-2 div.sk-estimator {font-family: monospace;background-color: #f0f8ff;border: 1px dotted black;border-radius: 0.25em;box-sizing: border-box;margin-bottom: 0.5em;}#sk-container-id-2 div.sk-estimator:hover {background-color: #d4ebff;}#sk-container-id-2 div.sk-parallel-item::after {content: \"\";width: 100%;border-bottom: 1px solid gray;flex-grow: 1;}#sk-container-id-2 div.sk-label:hover label.sk-toggleable__label {background-color: #d4ebff;}#sk-container-id-2 div.sk-serial::before {content: \"\";position: absolute;border-left: 1px solid gray;box-sizing: border-box;top: 0;bottom: 0;left: 50%;z-index: 0;}#sk-container-id-2 div.sk-serial {display: flex;flex-direction: column;align-items: center;background-color: white;padding-right: 0.2em;padding-left: 0.2em;position: relative;}#sk-container-id-2 div.sk-item {position: relative;z-index: 1;}#sk-container-id-2 div.sk-parallel {display: flex;align-items: stretch;justify-content: center;background-color: white;position: relative;}#sk-container-id-2 div.sk-item::before, #sk-container-id-2 div.sk-parallel-item::before {content: \"\";position: absolute;border-left: 1px solid gray;box-sizing: border-box;top: 0;bottom: 0;left: 50%;z-index: -1;}#sk-container-id-2 div.sk-parallel-item {display: flex;flex-direction: column;z-index: 1;position: relative;background-color: white;}#sk-container-id-2 div.sk-parallel-item:first-child::after {align-self: flex-end;width: 50%;}#sk-container-id-2 div.sk-parallel-item:last-child::after {align-self: flex-start;width: 50%;}#sk-container-id-2 div.sk-parallel-item:only-child::after {width: 0;}#sk-container-id-2 div.sk-dashed-wrapped {border: 1px dashed gray;margin: 0 0.4em 0.5em 0.4em;box-sizing: border-box;padding-bottom: 0.4em;background-color: white;}#sk-container-id-2 div.sk-label label {font-family: monospace;font-weight: bold;display: inline-block;line-height: 1.2em;}#sk-container-id-2 div.sk-label-container {text-align: center;}#sk-container-id-2 div.sk-container {/* jupyter's `normalize.less` sets `[hidden] { display: none; }` but bootstrap.min.css set `[hidden] { display: none !important; }` so we also need the `!important` here to be able to override the default hidden behavior on the sphinx rendered scikit-learn.org. See: https://github.com/scikit-learn/scikit-learn/issues/21755 */display: inline-block !important;position: relative;}#sk-container-id-2 div.sk-text-repr-fallback {display: none;}</style><div id=\"sk-container-id-2\" class=\"sk-top-container\"><div class=\"sk-text-repr-fallback\"><pre>RandomForestRegressor()</pre><b>In a Jupyter environment, please rerun this cell to show the HTML representation or trust the notebook. <br />On GitHub, the HTML representation is unable to render, please try loading this page with nbviewer.org.</b></div><div class=\"sk-container\" hidden><div class=\"sk-item\"><div class=\"sk-estimator sk-toggleable\"><input class=\"sk-toggleable__control sk-hidden--visually\" id=\"sk-estimator-id-2\" type=\"checkbox\" checked><label for=\"sk-estimator-id-2\" class=\"sk-toggleable__label sk-toggleable__label-arrow\">RandomForestRegressor</label><div class=\"sk-toggleable__content\"><pre>RandomForestRegressor()</pre></div></div></div></div></div>"
      ],
      "text/plain": [
       "RandomForestRegressor()"
      ]
     },
     "execution_count": 28,
     "metadata": {},
     "output_type": "execute_result"
    }
   ],
   "source": [
    "### fitting the model \n",
    "\n",
    "rc.fit(X_train, y_train)"
   ]
  },
  {
   "cell_type": "code",
   "execution_count": 29,
   "id": "1e14f8f6-0e2a-4498-a038-28be6690d5a9",
   "metadata": {},
   "outputs": [
    {
     "data": {
      "text/plain": [
       "array([ 3.33998067, 50.023523  , 10.260648  , ...,  6.595266  ,\n",
       "       55.81774685,  3.76965   ])"
      ]
     },
     "execution_count": 29,
     "metadata": {},
     "output_type": "execute_result"
    }
   ],
   "source": [
    "###predicting the model\n",
    "\n",
    "pred_rc = rc.predict(X_train)\n",
    "pred_rc"
   ]
  },
  {
   "cell_type": "code",
   "execution_count": 30,
   "id": "bb550423-c9a2-4eb1-a50d-255c54c5362a",
   "metadata": {},
   "outputs": [
    {
     "name": "stdout",
     "output_type": "stream",
     "text": [
      "R^2: 0.9394910088492071\n",
      "Homogeneity Score: 0.9793707884096793\n",
      "MAE: 10.617120026816819\n",
      "MSE: 3526.3094042489547\n",
      "RMSE 59.38273658437235\n",
      "Adjusted R^2: 1.1815269734523786\n"
     ]
    },
    {
     "name": "stderr",
     "output_type": "stream",
     "text": [
      "C:\\Users\\USER\\anaconda3\\Lib\\site-packages\\sklearn\\metrics\\cluster\\_supervised.py:64: UserWarning: Clustering metrics expects discrete values but received continuous values for label, and continuous values for target\n",
      "  warnings.warn(msg, UserWarning)\n"
     ]
    }
   ],
   "source": [
    "## Regressor evaluation scores\n",
    "\n",
    "print(\"R^2:\" , r2_score(y_train, pred_rc))\n",
    "print(\"Homogeneity Score:\", homogeneity_score(y_train, pred_rc))\n",
    "print(\"MAE:\", mean_absolute_error(y_train, pred_rc))\n",
    "print(\"MSE:\", mean_squared_error(y_train, pred_rc))\n",
    "print(\"RMSE\", np.sqrt(mean_squared_error(y_train, pred_rc)))\n",
    "print(\"Adjusted R^2:\", 1 - (1 - r2_score(y_train, pred_rc)) * (len(y_train - 1) / len(y_train) - X_train.shape[1]-1))"
   ]
  },
  {
   "cell_type": "code",
   "execution_count": 31,
   "id": "89d1c458-3b87-4bd2-925a-a1c3c7b5660f",
   "metadata": {},
   "outputs": [],
   "source": [
    "## checking if the model is overfitting\n",
    "\n",
    "y_test_pred_rc = rc.predict(X_test)"
   ]
  },
  {
   "cell_type": "code",
   "execution_count": 32,
   "id": "9f6f7de9-b6ed-4225-b440-cdf063bb4afa",
   "metadata": {},
   "outputs": [
    {
     "name": "stdout",
     "output_type": "stream",
     "text": [
      "R^2: 0.7236964303244118\n",
      "Homogeneity Score: 0.9845547178350753\n",
      "MAE: 25.761723751227045\n",
      "MSE: 12966.03367262058\n",
      "RMSE 113.8684928881584\n",
      "Adjusted R^2: 1.8289107090267647\n"
     ]
    },
    {
     "name": "stderr",
     "output_type": "stream",
     "text": [
      "C:\\Users\\USER\\anaconda3\\Lib\\site-packages\\sklearn\\metrics\\cluster\\_supervised.py:64: UserWarning: Clustering metrics expects discrete values but received continuous values for label, and continuous values for target\n",
      "  warnings.warn(msg, UserWarning)\n"
     ]
    }
   ],
   "source": [
    "print(\"R^2:\" , r2_score(y_test, y_test_pred_rc))\n",
    "print(\"Homogeneity Score:\", homogeneity_score(y_test, y_test_pred_rc))\n",
    "print(\"MAE:\", mean_absolute_error(y_test, y_test_pred_rc))\n",
    "print(\"MSE:\", mean_squared_error(y_test, y_test_pred_rc))\n",
    "print(\"RMSE\", np.sqrt(mean_squared_error(y_test, y_test_pred_rc)))\n",
    "print(\"Adjusted R^2:\", 1 - (1 - r2_score(y_test, y_test_pred_rc)) * (len(y_test - 1) / len(y_test) - X_test.shape[1]-1))"
   ]
  },
  {
   "cell_type": "code",
   "execution_count": 33,
   "id": "edd6ad1c-19a1-48b7-9ead-a9c7364d48c7",
   "metadata": {},
   "outputs": [],
   "source": [
    "##XGBoost Regressor\n",
    "###defining the regressor\n",
    "\n",
    "xgr = XGBRegressor()"
   ]
  },
  {
   "cell_type": "code",
   "execution_count": 34,
   "id": "8c9dc570-1d03-4c67-b010-adb43b4dab2c",
   "metadata": {},
   "outputs": [
    {
     "data": {
      "text/html": [
       "<style>#sk-container-id-3 {color: black;background-color: white;}#sk-container-id-3 pre{padding: 0;}#sk-container-id-3 div.sk-toggleable {background-color: white;}#sk-container-id-3 label.sk-toggleable__label {cursor: pointer;display: block;width: 100%;margin-bottom: 0;padding: 0.3em;box-sizing: border-box;text-align: center;}#sk-container-id-3 label.sk-toggleable__label-arrow:before {content: \"▸\";float: left;margin-right: 0.25em;color: #696969;}#sk-container-id-3 label.sk-toggleable__label-arrow:hover:before {color: black;}#sk-container-id-3 div.sk-estimator:hover label.sk-toggleable__label-arrow:before {color: black;}#sk-container-id-3 div.sk-toggleable__content {max-height: 0;max-width: 0;overflow: hidden;text-align: left;background-color: #f0f8ff;}#sk-container-id-3 div.sk-toggleable__content pre {margin: 0.2em;color: black;border-radius: 0.25em;background-color: #f0f8ff;}#sk-container-id-3 input.sk-toggleable__control:checked~div.sk-toggleable__content {max-height: 200px;max-width: 100%;overflow: auto;}#sk-container-id-3 input.sk-toggleable__control:checked~label.sk-toggleable__label-arrow:before {content: \"▾\";}#sk-container-id-3 div.sk-estimator input.sk-toggleable__control:checked~label.sk-toggleable__label {background-color: #d4ebff;}#sk-container-id-3 div.sk-label input.sk-toggleable__control:checked~label.sk-toggleable__label {background-color: #d4ebff;}#sk-container-id-3 input.sk-hidden--visually {border: 0;clip: rect(1px 1px 1px 1px);clip: rect(1px, 1px, 1px, 1px);height: 1px;margin: -1px;overflow: hidden;padding: 0;position: absolute;width: 1px;}#sk-container-id-3 div.sk-estimator {font-family: monospace;background-color: #f0f8ff;border: 1px dotted black;border-radius: 0.25em;box-sizing: border-box;margin-bottom: 0.5em;}#sk-container-id-3 div.sk-estimator:hover {background-color: #d4ebff;}#sk-container-id-3 div.sk-parallel-item::after {content: \"\";width: 100%;border-bottom: 1px solid gray;flex-grow: 1;}#sk-container-id-3 div.sk-label:hover label.sk-toggleable__label {background-color: #d4ebff;}#sk-container-id-3 div.sk-serial::before {content: \"\";position: absolute;border-left: 1px solid gray;box-sizing: border-box;top: 0;bottom: 0;left: 50%;z-index: 0;}#sk-container-id-3 div.sk-serial {display: flex;flex-direction: column;align-items: center;background-color: white;padding-right: 0.2em;padding-left: 0.2em;position: relative;}#sk-container-id-3 div.sk-item {position: relative;z-index: 1;}#sk-container-id-3 div.sk-parallel {display: flex;align-items: stretch;justify-content: center;background-color: white;position: relative;}#sk-container-id-3 div.sk-item::before, #sk-container-id-3 div.sk-parallel-item::before {content: \"\";position: absolute;border-left: 1px solid gray;box-sizing: border-box;top: 0;bottom: 0;left: 50%;z-index: -1;}#sk-container-id-3 div.sk-parallel-item {display: flex;flex-direction: column;z-index: 1;position: relative;background-color: white;}#sk-container-id-3 div.sk-parallel-item:first-child::after {align-self: flex-end;width: 50%;}#sk-container-id-3 div.sk-parallel-item:last-child::after {align-self: flex-start;width: 50%;}#sk-container-id-3 div.sk-parallel-item:only-child::after {width: 0;}#sk-container-id-3 div.sk-dashed-wrapped {border: 1px dashed gray;margin: 0 0.4em 0.5em 0.4em;box-sizing: border-box;padding-bottom: 0.4em;background-color: white;}#sk-container-id-3 div.sk-label label {font-family: monospace;font-weight: bold;display: inline-block;line-height: 1.2em;}#sk-container-id-3 div.sk-label-container {text-align: center;}#sk-container-id-3 div.sk-container {/* jupyter's `normalize.less` sets `[hidden] { display: none; }` but bootstrap.min.css set `[hidden] { display: none !important; }` so we also need the `!important` here to be able to override the default hidden behavior on the sphinx rendered scikit-learn.org. See: https://github.com/scikit-learn/scikit-learn/issues/21755 */display: inline-block !important;position: relative;}#sk-container-id-3 div.sk-text-repr-fallback {display: none;}</style><div id=\"sk-container-id-3\" class=\"sk-top-container\"><div class=\"sk-text-repr-fallback\"><pre>XGBRegressor(base_score=None, booster=None, callbacks=None,\n",
       "             colsample_bylevel=None, colsample_bynode=None,\n",
       "             colsample_bytree=None, device=None, early_stopping_rounds=None,\n",
       "             enable_categorical=False, eval_metric=None, feature_types=None,\n",
       "             gamma=None, grow_policy=None, importance_type=None,\n",
       "             interaction_constraints=None, learning_rate=None, max_bin=None,\n",
       "             max_cat_threshold=None, max_cat_to_onehot=None,\n",
       "             max_delta_step=None, max_depth=None, max_leaves=None,\n",
       "             min_child_weight=None, missing=nan, monotone_constraints=None,\n",
       "             multi_strategy=None, n_estimators=None, n_jobs=None,\n",
       "             num_parallel_tree=None, random_state=None, ...)</pre><b>In a Jupyter environment, please rerun this cell to show the HTML representation or trust the notebook. <br />On GitHub, the HTML representation is unable to render, please try loading this page with nbviewer.org.</b></div><div class=\"sk-container\" hidden><div class=\"sk-item\"><div class=\"sk-estimator sk-toggleable\"><input class=\"sk-toggleable__control sk-hidden--visually\" id=\"sk-estimator-id-3\" type=\"checkbox\" checked><label for=\"sk-estimator-id-3\" class=\"sk-toggleable__label sk-toggleable__label-arrow\">XGBRegressor</label><div class=\"sk-toggleable__content\"><pre>XGBRegressor(base_score=None, booster=None, callbacks=None,\n",
       "             colsample_bylevel=None, colsample_bynode=None,\n",
       "             colsample_bytree=None, device=None, early_stopping_rounds=None,\n",
       "             enable_categorical=False, eval_metric=None, feature_types=None,\n",
       "             gamma=None, grow_policy=None, importance_type=None,\n",
       "             interaction_constraints=None, learning_rate=None, max_bin=None,\n",
       "             max_cat_threshold=None, max_cat_to_onehot=None,\n",
       "             max_delta_step=None, max_depth=None, max_leaves=None,\n",
       "             min_child_weight=None, missing=nan, monotone_constraints=None,\n",
       "             multi_strategy=None, n_estimators=None, n_jobs=None,\n",
       "             num_parallel_tree=None, random_state=None, ...)</pre></div></div></div></div></div>"
      ],
      "text/plain": [
       "XGBRegressor(base_score=None, booster=None, callbacks=None,\n",
       "             colsample_bylevel=None, colsample_bynode=None,\n",
       "             colsample_bytree=None, device=None, early_stopping_rounds=None,\n",
       "             enable_categorical=False, eval_metric=None, feature_types=None,\n",
       "             gamma=None, grow_policy=None, importance_type=None,\n",
       "             interaction_constraints=None, learning_rate=None, max_bin=None,\n",
       "             max_cat_threshold=None, max_cat_to_onehot=None,\n",
       "             max_delta_step=None, max_depth=None, max_leaves=None,\n",
       "             min_child_weight=None, missing=nan, monotone_constraints=None,\n",
       "             multi_strategy=None, n_estimators=None, n_jobs=None,\n",
       "             num_parallel_tree=None, random_state=None, ...)"
      ]
     },
     "execution_count": 34,
     "metadata": {},
     "output_type": "execute_result"
    }
   ],
   "source": [
    "## fitting the model\n",
    "\n",
    "xgr.fit(X_train, y_train)"
   ]
  },
  {
   "cell_type": "code",
   "execution_count": 35,
   "id": "045b790a-2810-4202-a154-65dd47aaa413",
   "metadata": {},
   "outputs": [
    {
     "data": {
      "text/plain": [
       "array([ 4.0704703, 71.12269  , 12.354681 , ..., 12.381187 , 55.94501  ,\n",
       "        3.2560806], dtype=float32)"
      ]
     },
     "execution_count": 35,
     "metadata": {},
     "output_type": "execute_result"
    }
   ],
   "source": [
    "## predicting the model\n",
    "\n",
    "xgr_pred = xgr.predict(X_train)\n",
    "xgr_pred"
   ]
  },
  {
   "cell_type": "code",
   "execution_count": 36,
   "id": "d7151b46-1627-4d87-afeb-b3de107b90f1",
   "metadata": {},
   "outputs": [
    {
     "name": "stdout",
     "output_type": "stream",
     "text": [
      "R^2: 0.7863371638933604\n",
      "Homogeneity Score: 0.8275679292037187\n",
      "MAE: 18.44440934235367\n",
      "MSE: 12451.724181348765\n",
      "RMSE 111.58729399599564\n",
      "Adjusted R^2: 1.6409885083199187\n"
     ]
    },
    {
     "name": "stderr",
     "output_type": "stream",
     "text": [
      "C:\\Users\\USER\\anaconda3\\Lib\\site-packages\\sklearn\\metrics\\cluster\\_supervised.py:64: UserWarning: Clustering metrics expects discrete values but received continuous values for label, and continuous values for target\n",
      "  warnings.warn(msg, UserWarning)\n"
     ]
    }
   ],
   "source": [
    "## Checking for the evaluation metrics\n",
    "\n",
    "print(\"R^2:\" , r2_score(y_train, xgr_pred))\n",
    "print(\"Homogeneity Score:\", homogeneity_score(y_train, xgr_pred))\n",
    "print(\"MAE:\", mean_absolute_error(y_train, xgr_pred))\n",
    "print(\"MSE:\", mean_squared_error(y_train, xgr_pred))\n",
    "print(\"RMSE\", np.sqrt(mean_squared_error(y_train, xgr_pred)))\n",
    "print(\"Adjusted R^2:\", 1 - (1 - r2_score(y_train, xgr_pred)) * (len(y_train - 1) / len(y_train) - X_train.shape[1]-1))"
   ]
  },
  {
   "cell_type": "code",
   "execution_count": 37,
   "id": "d473ad5d-e673-4194-9f19-9ab3e3759ba8",
   "metadata": {},
   "outputs": [
    {
     "name": "stdout",
     "output_type": "stream",
     "text": [
      "R^2: 0.5511073193986553\n",
      "Homogeneity Score: 0.8766822546679078\n",
      "MAE: 29.64126454475701\n",
      "MSE: 21065.082940852742\n",
      "RMSE 145.1381512244549\n",
      "Adjusted R^2: 2.346678041804034\n"
     ]
    },
    {
     "name": "stderr",
     "output_type": "stream",
     "text": [
      "C:\\Users\\USER\\anaconda3\\Lib\\site-packages\\sklearn\\metrics\\cluster\\_supervised.py:64: UserWarning: Clustering metrics expects discrete values but received continuous values for label, and continuous values for target\n",
      "  warnings.warn(msg, UserWarning)\n"
     ]
    }
   ],
   "source": [
    "## checking if the model is overfitting\n",
    "\n",
    "y_test_pred_xgr = xgr.predict(X_test)\n",
    "\n",
    "print(\"R^2:\" , r2_score(y_test, y_test_pred_xgr))\n",
    "print(\"Homogeneity Score:\", homogeneity_score(y_test, y_test_pred_xgr))\n",
    "print(\"MAE:\", mean_absolute_error(y_test, y_test_pred_xgr))\n",
    "print(\"MSE:\", mean_squared_error(y_test, y_test_pred_xgr))\n",
    "print(\"RMSE\", np.sqrt(mean_squared_error(y_test, y_test_pred_xgr)))\n",
    "print(\"Adjusted R^2:\", 1 - (1 - r2_score(y_test, y_test_pred_xgr)) * (len(y_test - 1) / len(y_test) - X_test.shape[1]-1))"
   ]
  },
  {
   "cell_type": "code",
   "execution_count": 38,
   "id": "c3ecb3d1-731f-48a9-9ba3-4d619c21099c",
   "metadata": {},
   "outputs": [],
   "source": [
    "##SVM Regressor\n",
    "###defining the standard scalar\n",
    "\n",
    "sc = StandardScaler()"
   ]
  },
  {
   "cell_type": "code",
   "execution_count": 39,
   "id": "f74a7078-e065-4cea-a0dd-501f8dffd3a7",
   "metadata": {},
   "outputs": [],
   "source": [
    "## defining the training and testing dataset\n",
    "\n",
    "x_train = sc.fit_transform(X_train)\n",
    "x_test = sc.fit_transform(X_test)\n"
   ]
  },
  {
   "cell_type": "code",
   "execution_count": 40,
   "id": "0b7e7fe4-41ea-422b-b9d5-f5a73812ca35",
   "metadata": {},
   "outputs": [],
   "source": [
    "## creating an svm regressor\n",
    "\n",
    "svm_reg = svm.SVR()"
   ]
  },
  {
   "cell_type": "code",
   "execution_count": 41,
   "id": "1e9cf8cb-5dce-4878-b001-a6c1f2024a6e",
   "metadata": {},
   "outputs": [
    {
     "data": {
      "text/html": [
       "<style>#sk-container-id-4 {color: black;background-color: white;}#sk-container-id-4 pre{padding: 0;}#sk-container-id-4 div.sk-toggleable {background-color: white;}#sk-container-id-4 label.sk-toggleable__label {cursor: pointer;display: block;width: 100%;margin-bottom: 0;padding: 0.3em;box-sizing: border-box;text-align: center;}#sk-container-id-4 label.sk-toggleable__label-arrow:before {content: \"▸\";float: left;margin-right: 0.25em;color: #696969;}#sk-container-id-4 label.sk-toggleable__label-arrow:hover:before {color: black;}#sk-container-id-4 div.sk-estimator:hover label.sk-toggleable__label-arrow:before {color: black;}#sk-container-id-4 div.sk-toggleable__content {max-height: 0;max-width: 0;overflow: hidden;text-align: left;background-color: #f0f8ff;}#sk-container-id-4 div.sk-toggleable__content pre {margin: 0.2em;color: black;border-radius: 0.25em;background-color: #f0f8ff;}#sk-container-id-4 input.sk-toggleable__control:checked~div.sk-toggleable__content {max-height: 200px;max-width: 100%;overflow: auto;}#sk-container-id-4 input.sk-toggleable__control:checked~label.sk-toggleable__label-arrow:before {content: \"▾\";}#sk-container-id-4 div.sk-estimator input.sk-toggleable__control:checked~label.sk-toggleable__label {background-color: #d4ebff;}#sk-container-id-4 div.sk-label input.sk-toggleable__control:checked~label.sk-toggleable__label {background-color: #d4ebff;}#sk-container-id-4 input.sk-hidden--visually {border: 0;clip: rect(1px 1px 1px 1px);clip: rect(1px, 1px, 1px, 1px);height: 1px;margin: -1px;overflow: hidden;padding: 0;position: absolute;width: 1px;}#sk-container-id-4 div.sk-estimator {font-family: monospace;background-color: #f0f8ff;border: 1px dotted black;border-radius: 0.25em;box-sizing: border-box;margin-bottom: 0.5em;}#sk-container-id-4 div.sk-estimator:hover {background-color: #d4ebff;}#sk-container-id-4 div.sk-parallel-item::after {content: \"\";width: 100%;border-bottom: 1px solid gray;flex-grow: 1;}#sk-container-id-4 div.sk-label:hover label.sk-toggleable__label {background-color: #d4ebff;}#sk-container-id-4 div.sk-serial::before {content: \"\";position: absolute;border-left: 1px solid gray;box-sizing: border-box;top: 0;bottom: 0;left: 50%;z-index: 0;}#sk-container-id-4 div.sk-serial {display: flex;flex-direction: column;align-items: center;background-color: white;padding-right: 0.2em;padding-left: 0.2em;position: relative;}#sk-container-id-4 div.sk-item {position: relative;z-index: 1;}#sk-container-id-4 div.sk-parallel {display: flex;align-items: stretch;justify-content: center;background-color: white;position: relative;}#sk-container-id-4 div.sk-item::before, #sk-container-id-4 div.sk-parallel-item::before {content: \"\";position: absolute;border-left: 1px solid gray;box-sizing: border-box;top: 0;bottom: 0;left: 50%;z-index: -1;}#sk-container-id-4 div.sk-parallel-item {display: flex;flex-direction: column;z-index: 1;position: relative;background-color: white;}#sk-container-id-4 div.sk-parallel-item:first-child::after {align-self: flex-end;width: 50%;}#sk-container-id-4 div.sk-parallel-item:last-child::after {align-self: flex-start;width: 50%;}#sk-container-id-4 div.sk-parallel-item:only-child::after {width: 0;}#sk-container-id-4 div.sk-dashed-wrapped {border: 1px dashed gray;margin: 0 0.4em 0.5em 0.4em;box-sizing: border-box;padding-bottom: 0.4em;background-color: white;}#sk-container-id-4 div.sk-label label {font-family: monospace;font-weight: bold;display: inline-block;line-height: 1.2em;}#sk-container-id-4 div.sk-label-container {text-align: center;}#sk-container-id-4 div.sk-container {/* jupyter's `normalize.less` sets `[hidden] { display: none; }` but bootstrap.min.css set `[hidden] { display: none !important; }` so we also need the `!important` here to be able to override the default hidden behavior on the sphinx rendered scikit-learn.org. See: https://github.com/scikit-learn/scikit-learn/issues/21755 */display: inline-block !important;position: relative;}#sk-container-id-4 div.sk-text-repr-fallback {display: none;}</style><div id=\"sk-container-id-4\" class=\"sk-top-container\"><div class=\"sk-text-repr-fallback\"><pre>SVR()</pre><b>In a Jupyter environment, please rerun this cell to show the HTML representation or trust the notebook. <br />On GitHub, the HTML representation is unable to render, please try loading this page with nbviewer.org.</b></div><div class=\"sk-container\" hidden><div class=\"sk-item\"><div class=\"sk-estimator sk-toggleable\"><input class=\"sk-toggleable__control sk-hidden--visually\" id=\"sk-estimator-id-4\" type=\"checkbox\" checked><label for=\"sk-estimator-id-4\" class=\"sk-toggleable__label sk-toggleable__label-arrow\">SVR</label><div class=\"sk-toggleable__content\"><pre>SVR()</pre></div></div></div></div></div>"
      ],
      "text/plain": [
       "SVR()"
      ]
     },
     "execution_count": 41,
     "metadata": {},
     "output_type": "execute_result"
    }
   ],
   "source": [
    "## fitting the model\n",
    "\n",
    "svm_reg.fit(x_train, y_train)"
   ]
  },
  {
   "cell_type": "code",
   "execution_count": 42,
   "id": "dfeeeeb2-c209-45a4-a5c8-afa12d7c48e3",
   "metadata": {},
   "outputs": [
    {
     "data": {
      "text/plain": [
       "array([ 4.95184362, 45.05936764, 11.67817842, ...,  8.66728169,\n",
       "       41.65241696,  5.48907379])"
      ]
     },
     "execution_count": 42,
     "metadata": {},
     "output_type": "execute_result"
    }
   ],
   "source": [
    "## predicting the model\n",
    "\n",
    "pred_sc = svm_reg.predict(x_train)\n",
    "pred_sc"
   ]
  },
  {
   "cell_type": "code",
   "execution_count": 43,
   "id": "4bcc9bbc-ac2f-4652-979b-789a27accd66",
   "metadata": {},
   "outputs": [
    {
     "name": "stdout",
     "output_type": "stream",
     "text": [
      "R^2: 0.06333434499610657\n",
      "Homogeneity Score: 0.9793707884096793\n",
      "MAE: 45.019213403436055\n",
      "MSE: 54586.4811998928\n",
      "RMSE 233.63749955838168\n",
      "Adjusted R^2: 3.8099969650116803\n"
     ]
    },
    {
     "name": "stderr",
     "output_type": "stream",
     "text": [
      "C:\\Users\\USER\\anaconda3\\Lib\\site-packages\\sklearn\\metrics\\cluster\\_supervised.py:64: UserWarning: Clustering metrics expects discrete values but received continuous values for label, and continuous values for target\n",
      "  warnings.warn(msg, UserWarning)\n"
     ]
    }
   ],
   "source": [
    "## Evaluating the model scores\n",
    "\n",
    "print(\"R^2:\" , r2_score(y_train, pred_sc))\n",
    "print(\"Homogeneity Score:\", homogeneity_score(y_train, pred_sc))\n",
    "print(\"MAE:\", mean_absolute_error(y_train, pred_sc))\n",
    "print(\"MSE:\", mean_squared_error(y_train, pred_sc))\n",
    "print(\"RMSE\", np.sqrt(mean_squared_error(y_train, pred_sc)))\n",
    "print(\"Adjusted R^2:\", 1 - (1 - r2_score(y_train, pred_sc)) * (len(y_train - 1) / len(y_train) - X_train.shape[1]-1))"
   ]
  },
  {
   "cell_type": "code",
   "execution_count": 44,
   "id": "6457e5da-af78-4e8f-b793-45ac9df32dfe",
   "metadata": {},
   "outputs": [
    {
     "name": "stdout",
     "output_type": "stream",
     "text": [
      "R^2: 0.07035237338597011\n",
      "Homogeneity Score: 0.9877265608256731\n",
      "MAE: 44.0820675641024\n",
      "MSE: 43625.35903717022\n",
      "RMSE 208.86684523200475\n",
      "Adjusted R^2: 3.7889428798420894\n"
     ]
    },
    {
     "name": "stderr",
     "output_type": "stream",
     "text": [
      "C:\\Users\\USER\\anaconda3\\Lib\\site-packages\\sklearn\\metrics\\cluster\\_supervised.py:64: UserWarning: Clustering metrics expects discrete values but received continuous values for label, and continuous values for target\n",
      "  warnings.warn(msg, UserWarning)\n"
     ]
    }
   ],
   "source": [
    "y_test_pred_sc = svm_reg.predict(x_test)\n",
    "\n",
    "print(\"R^2:\" , r2_score(y_test, y_test_pred_sc))\n",
    "print(\"Homogeneity Score:\", homogeneity_score(y_test, y_test_pred_sc))\n",
    "print(\"MAE:\", mean_absolute_error(y_test, y_test_pred_sc))\n",
    "print(\"MSE:\", mean_squared_error(y_test, y_test_pred_sc))\n",
    "print(\"RMSE\", np.sqrt(mean_squared_error(y_test, y_test_pred_sc)))\n",
    "print(\"Adjusted R^2:\", 1 - (1 - r2_score(y_test, y_test_pred_sc)) * (len(y_test - 1) / len(y_test) - X_test.shape[1]-1))"
   ]
  },
  {
   "cell_type": "code",
   "execution_count": null,
   "id": "9dd8c70d-6ee8-414a-989b-9019e40a3091",
   "metadata": {},
   "outputs": [],
   "source": []
  }
 ],
 "metadata": {
  "kernelspec": {
   "display_name": "Python 3 (ipykernel)",
   "language": "python",
   "name": "python3"
  },
  "language_info": {
   "codemirror_mode": {
    "name": "ipython",
    "version": 3
   },
   "file_extension": ".py",
   "mimetype": "text/x-python",
   "name": "python",
   "nbconvert_exporter": "python",
   "pygments_lexer": "ipython3",
   "version": "3.11.7"
  }
 },
 "nbformat": 4,
 "nbformat_minor": 5
}
